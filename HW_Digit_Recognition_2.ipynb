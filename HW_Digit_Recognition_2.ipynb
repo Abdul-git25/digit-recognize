{
  "cells": [
    {
      "cell_type": "markdown",
      "metadata": {
        "id": "view-in-github",
        "colab_type": "text"
      },
      "source": [
        "<a href=\"https://colab.research.google.com/github/Abdul-git25/digit-recognize/blob/main/HW_Digit_Recognition_2.ipynb\" target=\"_parent\"><img src=\"https://colab.research.google.com/assets/colab-badge.svg\" alt=\"Open In Colab\"/></a>"
      ]
    },
    {
      "cell_type": "markdown",
      "metadata": {
        "id": "XAnca8KTYQxd"
      },
      "source": [
        "# Neural Networks for Handwritten Digit Recognition, Multiclass\n",
        "\n",
        "We will use a neural network to recognize the hand-written digits 0-9.\n",
        "\n",
        "\n",
        "# Outline\n",
        "- [ 1 - Packages ](#1)\n",
        "- [ 2 - ReLU Activation](#2)\n",
        "- [ 3 - Softmax Function](#3)\n",
        "  - [ Example 1](#ex01)\n",
        "- [ 4 - Neural Networks](#4)\n",
        "  - [ 4.1 Problem Statement](#4.1)\n",
        "  - [ 4.2 Dataset](#4.2)\n",
        "  - [ 4.3 Model representation](#4.3)\n",
        "  - [ 4.4 Tensorflow Model Implementation](#4.4)\n",
        "  - [ 4.5 Softmax placement](#4.5)\n",
        "    - [ Example 2](#ex02)\n"
      ]
    },
    {
      "cell_type": "markdown",
      "metadata": {
        "tags": [],
        "id": "Qq9LIeh8YQxe"
      },
      "source": [
        "<a name=\"1\"></a>\n",
        "## 1 - Packages\n",
        "\n",
        "First, let's run the cell below to import all the packages that you will need during this lecture.\n",
        "- [numpy](https://numpy.org/) is the fundamental package for scientific computing with Python.\n",
        "- [matplotlib](http://matplotlib.org) is a popular library to plot graphs in Python.\n",
        "- [tensorflow](https://www.tensorflow.org/) a popular platform for machine learning."
      ]
    },
    {
      "cell_type": "code",
      "execution_count": 11,
      "metadata": {
        "deletable": false,
        "colab": {
          "base_uri": "https://localhost:8080/",
          "height": 897
        },
        "id": "GkfRCtD5YQxe",
        "outputId": "ec992e37-6ac9-492c-a004-129852b10d8a"
      },
      "outputs": [
        {
          "output_type": "error",
          "ename": "OSError",
          "evalue": "'./deeplearning.mplstyle' is not a valid package style, path of style file, URL of style file, or library style name (library styles are listed in `style.available`)",
          "traceback": [
            "\u001b[0;31m---------------------------------------------------------------------------\u001b[0m",
            "\u001b[0;31mFileNotFoundError\u001b[0m                         Traceback (most recent call last)",
            "\u001b[0;32m/usr/local/lib/python3.12/dist-packages/matplotlib/style/core.py\u001b[0m in \u001b[0;36muse\u001b[0;34m(style)\u001b[0m\n\u001b[1;32m    128\u001b[0m             \u001b[0;32mtry\u001b[0m\u001b[0;34m:\u001b[0m\u001b[0;34m\u001b[0m\u001b[0;34m\u001b[0m\u001b[0m\n\u001b[0;32m--> 129\u001b[0;31m                 \u001b[0mstyle\u001b[0m \u001b[0;34m=\u001b[0m \u001b[0m_rc_params_in_file\u001b[0m\u001b[0;34m(\u001b[0m\u001b[0mstyle\u001b[0m\u001b[0;34m)\u001b[0m\u001b[0;34m\u001b[0m\u001b[0;34m\u001b[0m\u001b[0m\n\u001b[0m\u001b[1;32m    130\u001b[0m             \u001b[0;32mexcept\u001b[0m \u001b[0mOSError\u001b[0m \u001b[0;32mas\u001b[0m \u001b[0merr\u001b[0m\u001b[0;34m:\u001b[0m\u001b[0;34m\u001b[0m\u001b[0;34m\u001b[0m\u001b[0m\n",
            "\u001b[0;32m/usr/local/lib/python3.12/dist-packages/matplotlib/__init__.py\u001b[0m in \u001b[0;36m_rc_params_in_file\u001b[0;34m(fname, transform, fail_on_error)\u001b[0m\n\u001b[1;32m    902\u001b[0m     \u001b[0mrc_temp\u001b[0m \u001b[0;34m=\u001b[0m \u001b[0;34m{\u001b[0m\u001b[0;34m}\u001b[0m\u001b[0;34m\u001b[0m\u001b[0;34m\u001b[0m\u001b[0m\n\u001b[0;32m--> 903\u001b[0;31m     \u001b[0;32mwith\u001b[0m \u001b[0m_open_file_or_url\u001b[0m\u001b[0;34m(\u001b[0m\u001b[0mfname\u001b[0m\u001b[0;34m)\u001b[0m \u001b[0;32mas\u001b[0m \u001b[0mfd\u001b[0m\u001b[0;34m:\u001b[0m\u001b[0;34m\u001b[0m\u001b[0;34m\u001b[0m\u001b[0m\n\u001b[0m\u001b[1;32m    904\u001b[0m         \u001b[0;32mtry\u001b[0m\u001b[0;34m:\u001b[0m\u001b[0;34m\u001b[0m\u001b[0;34m\u001b[0m\u001b[0m\n",
            "\u001b[0;32m/usr/lib/python3.12/contextlib.py\u001b[0m in \u001b[0;36m__enter__\u001b[0;34m(self)\u001b[0m\n\u001b[1;32m    136\u001b[0m         \u001b[0;32mtry\u001b[0m\u001b[0;34m:\u001b[0m\u001b[0;34m\u001b[0m\u001b[0;34m\u001b[0m\u001b[0m\n\u001b[0;32m--> 137\u001b[0;31m             \u001b[0;32mreturn\u001b[0m \u001b[0mnext\u001b[0m\u001b[0;34m(\u001b[0m\u001b[0mself\u001b[0m\u001b[0;34m.\u001b[0m\u001b[0mgen\u001b[0m\u001b[0;34m)\u001b[0m\u001b[0;34m\u001b[0m\u001b[0;34m\u001b[0m\u001b[0m\n\u001b[0m\u001b[1;32m    138\u001b[0m         \u001b[0;32mexcept\u001b[0m \u001b[0mStopIteration\u001b[0m\u001b[0;34m:\u001b[0m\u001b[0;34m\u001b[0m\u001b[0;34m\u001b[0m\u001b[0m\n",
            "\u001b[0;32m/usr/local/lib/python3.12/dist-packages/matplotlib/__init__.py\u001b[0m in \u001b[0;36m_open_file_or_url\u001b[0;34m(fname)\u001b[0m\n\u001b[1;32m    879\u001b[0m         \u001b[0mfname\u001b[0m \u001b[0;34m=\u001b[0m \u001b[0mos\u001b[0m\u001b[0;34m.\u001b[0m\u001b[0mpath\u001b[0m\u001b[0;34m.\u001b[0m\u001b[0mexpanduser\u001b[0m\u001b[0;34m(\u001b[0m\u001b[0mfname\u001b[0m\u001b[0;34m)\u001b[0m\u001b[0;34m\u001b[0m\u001b[0;34m\u001b[0m\u001b[0m\n\u001b[0;32m--> 880\u001b[0;31m         \u001b[0;32mwith\u001b[0m \u001b[0mopen\u001b[0m\u001b[0;34m(\u001b[0m\u001b[0mfname\u001b[0m\u001b[0;34m,\u001b[0m \u001b[0mencoding\u001b[0m\u001b[0;34m=\u001b[0m\u001b[0;34m'utf-8'\u001b[0m\u001b[0;34m)\u001b[0m \u001b[0;32mas\u001b[0m \u001b[0mf\u001b[0m\u001b[0;34m:\u001b[0m\u001b[0;34m\u001b[0m\u001b[0;34m\u001b[0m\u001b[0m\n\u001b[0m\u001b[1;32m    881\u001b[0m             \u001b[0;32myield\u001b[0m \u001b[0mf\u001b[0m\u001b[0;34m\u001b[0m\u001b[0;34m\u001b[0m\u001b[0m\n",
            "\u001b[0;31mFileNotFoundError\u001b[0m: [Errno 2] No such file or directory: './deeplearning.mplstyle'",
            "\nThe above exception was the direct cause of the following exception:\n",
            "\u001b[0;31mOSError\u001b[0m                                   Traceback (most recent call last)",
            "\u001b[0;32m/tmp/ipython-input-4284616738.py\u001b[0m in \u001b[0;36m<cell line: 0>\u001b[0;34m()\u001b[0m\n\u001b[1;32m     14\u001b[0m \u001b[0;32mfrom\u001b[0m \u001b[0mpublic_tests\u001b[0m \u001b[0;32mimport\u001b[0m \u001b[0;34m*\u001b[0m\u001b[0;34m\u001b[0m\u001b[0;34m\u001b[0m\u001b[0m\n\u001b[1;32m     15\u001b[0m \u001b[0;34m\u001b[0m\u001b[0m\n\u001b[0;32m---> 16\u001b[0;31m \u001b[0;32mfrom\u001b[0m \u001b[0mautils\u001b[0m \u001b[0;32mimport\u001b[0m \u001b[0;34m*\u001b[0m\u001b[0;34m\u001b[0m\u001b[0;34m\u001b[0m\u001b[0m\n\u001b[0m\u001b[1;32m     17\u001b[0m \u001b[0;32mfrom\u001b[0m \u001b[0mlab_utils_softmax\u001b[0m \u001b[0;32mimport\u001b[0m \u001b[0mplt_softmax\u001b[0m\u001b[0;34m\u001b[0m\u001b[0;34m\u001b[0m\u001b[0m\n\u001b[1;32m     18\u001b[0m \u001b[0mnp\u001b[0m\u001b[0;34m.\u001b[0m\u001b[0mset_printoptions\u001b[0m\u001b[0;34m(\u001b[0m\u001b[0mprecision\u001b[0m\u001b[0;34m=\u001b[0m\u001b[0;36m2\u001b[0m\u001b[0;34m)\u001b[0m\u001b[0;34m\u001b[0m\u001b[0;34m\u001b[0m\u001b[0m\n",
            "\u001b[0;32m/content/autils.py\u001b[0m in \u001b[0;36m<module>\u001b[0;34m\u001b[0m\n\u001b[1;32m      9\u001b[0m \u001b[0mdlblue\u001b[0m \u001b[0;34m=\u001b[0m \u001b[0;34m'#0096ff'\u001b[0m\u001b[0;34m;\u001b[0m \u001b[0mdlorange\u001b[0m \u001b[0;34m=\u001b[0m \u001b[0;34m'#FF9300'\u001b[0m\u001b[0;34m;\u001b[0m \u001b[0mdldarkred\u001b[0m\u001b[0;34m=\u001b[0m\u001b[0;34m'#C00000'\u001b[0m\u001b[0;34m;\u001b[0m \u001b[0mdlmagenta\u001b[0m\u001b[0;34m=\u001b[0m\u001b[0;34m'#FF40FF'\u001b[0m\u001b[0;34m;\u001b[0m \u001b[0mdlpurple\u001b[0m\u001b[0;34m=\u001b[0m\u001b[0;34m'#7030A0'\u001b[0m\u001b[0;34m;\u001b[0m \u001b[0mdldarkblue\u001b[0m \u001b[0;34m=\u001b[0m  \u001b[0;34m'#0D5BDC'\u001b[0m\u001b[0;34m;\u001b[0m \u001b[0mdlmedblue\u001b[0m\u001b[0;34m=\u001b[0m\u001b[0;34m'#4285F4'\u001b[0m\u001b[0;34m\u001b[0m\u001b[0;34m\u001b[0m\u001b[0m\n\u001b[1;32m     10\u001b[0m \u001b[0mdlcolors\u001b[0m \u001b[0;34m=\u001b[0m \u001b[0;34m[\u001b[0m\u001b[0mdlblue\u001b[0m\u001b[0;34m,\u001b[0m \u001b[0mdlorange\u001b[0m\u001b[0;34m,\u001b[0m \u001b[0mdldarkred\u001b[0m\u001b[0;34m,\u001b[0m \u001b[0mdlmagenta\u001b[0m\u001b[0;34m,\u001b[0m \u001b[0mdlpurple\u001b[0m\u001b[0;34m]\u001b[0m\u001b[0;34m\u001b[0m\u001b[0;34m\u001b[0m\u001b[0m\n\u001b[0;32m---> 11\u001b[0;31m \u001b[0mplt\u001b[0m\u001b[0;34m.\u001b[0m\u001b[0mstyle\u001b[0m\u001b[0;34m.\u001b[0m\u001b[0muse\u001b[0m\u001b[0;34m(\u001b[0m\u001b[0;34m'./deeplearning.mplstyle'\u001b[0m\u001b[0;34m)\u001b[0m\u001b[0;34m\u001b[0m\u001b[0;34m\u001b[0m\u001b[0m\n\u001b[0m\u001b[1;32m     12\u001b[0m \u001b[0;34m\u001b[0m\u001b[0m\n\u001b[1;32m     13\u001b[0m \u001b[0;34m\u001b[0m\u001b[0m\n",
            "\u001b[0;32m/usr/local/lib/python3.12/dist-packages/matplotlib/style/core.py\u001b[0m in \u001b[0;36muse\u001b[0;34m(style)\u001b[0m\n\u001b[1;32m    129\u001b[0m                 \u001b[0mstyle\u001b[0m \u001b[0;34m=\u001b[0m \u001b[0m_rc_params_in_file\u001b[0m\u001b[0;34m(\u001b[0m\u001b[0mstyle\u001b[0m\u001b[0;34m)\u001b[0m\u001b[0;34m\u001b[0m\u001b[0;34m\u001b[0m\u001b[0m\n\u001b[1;32m    130\u001b[0m             \u001b[0;32mexcept\u001b[0m \u001b[0mOSError\u001b[0m \u001b[0;32mas\u001b[0m \u001b[0merr\u001b[0m\u001b[0;34m:\u001b[0m\u001b[0;34m\u001b[0m\u001b[0;34m\u001b[0m\u001b[0m\n\u001b[0;32m--> 131\u001b[0;31m                 raise OSError(\n\u001b[0m\u001b[1;32m    132\u001b[0m                     \u001b[0;34mf\"{style!r} is not a valid package style, path of style \"\u001b[0m\u001b[0;34m\u001b[0m\u001b[0;34m\u001b[0m\u001b[0m\n\u001b[1;32m    133\u001b[0m                     \u001b[0;34mf\"file, URL of style file, or library style name (library \"\u001b[0m\u001b[0;34m\u001b[0m\u001b[0;34m\u001b[0m\u001b[0m\n",
            "\u001b[0;31mOSError\u001b[0m: './deeplearning.mplstyle' is not a valid package style, path of style file, URL of style file, or library style name (library styles are listed in `style.available`)"
          ]
        }
      ],
      "source": [
        "import numpy as np\n",
        "import tensorflow as tf\n",
        "from tensorflow.keras.models import Sequential\n",
        "from tensorflow.keras.layers import Dense\n",
        "from tensorflow.keras.activations import linear, relu, sigmoid\n",
        "%matplotlib inline\n",
        "import matplotlib.pyplot as plt\n",
        "# plt.style.use('./deeplearning.mplstyle')\n",
        "\n",
        "import logging\n",
        "logging.getLogger(\"tensorflow\").setLevel(logging.ERROR)\n",
        "tf.autograph.set_verbosity(0)\n",
        "\n",
        "from public_tests import *\n",
        "\n",
        "from autils import *\n",
        "from lab_utils_softmax import plt_softmax\n",
        "np.set_printoptions(precision=2)"
      ]
    },
    {
      "cell_type": "markdown",
      "metadata": {
        "id": "Zxj8Y3MSYQxe"
      },
      "source": [
        "<a name=\"2\"></a>\n",
        "## 2 - ReLU Activation\n",
        "This week, a new activation was introduced, the Rectified Linear Unit (ReLU).\n",
        "$$ a = max(0,z) \\quad\\quad\\text {# ReLU function} $$"
      ]
    },
    {
      "cell_type": "code",
      "execution_count": null,
      "metadata": {
        "deletable": false,
        "id": "fTCn-sx6YQxf"
      },
      "outputs": [],
      "source": [
        "plt_act_trio()"
      ]
    },
    {
      "cell_type": "markdown",
      "metadata": {
        "id": "hecV1bBAYQxf"
      },
      "source": [
        "<img align=\"right\" src=\"https://github.com/Abdul-git25/digit-recognize/blob/main/images/ReLu.png?raw=1\"     style=\" width:380px; padding: 10px 20px; \" >\n",
        "The example from the lecture on the right shows an application of the ReLU. In this example, the derived \"awareness\" feature is not binary but has a continuous range of values. The sigmoid is best for on/off or binary situations. The ReLU provides a continuous linear relationship. Additionally it has an 'off' range where the output is zero.     \n",
        "The \"off\" feature makes the ReLU a Non-Linear activation. Why is this needed? This enables multiple units to contribute to to the resulting function without interfering. This is examined more in the supporting optional lab."
      ]
    },
    {
      "cell_type": "markdown",
      "metadata": {
        "tags": [],
        "id": "6HrSFSdyYQxf"
      },
      "source": [
        "<a name=\"3\"></a>\n",
        "## 3 - Softmax Function\n",
        "A multiclass neural network generates N outputs. One output is selected as the predicted answer. In the output layer, a vector $\\mathbf{z}$ is generated by a linear function which is fed into a softmax function. The softmax function converts $\\mathbf{z}$  into a probability distribution as described below. After applying softmax, each output will be between 0 and 1 and the outputs will sum to 1. They can be interpreted as probabilities. The larger inputs to the softmax will correspond to larger output probabilities.\n",
        "<center>  <img  src=\"https://github.com/Abdul-git25/digit-recognize/blob/main/images/NNSoftmax.PNG?raw=1\" width=\"600\" />  "
      ]
    },
    {
      "cell_type": "markdown",
      "metadata": {
        "id": "QMnsyxKbYQxf"
      },
      "source": [
        "The softmax function can be written:\n",
        "$$a_j = \\frac{e^{z_j}}{ \\sum_{k=0}^{N-1}{e^{z_k} }} \\tag{1}$$\n",
        "\n",
        "Where $z = \\mathbf{w} \\cdot \\mathbf{x} + b$ and N is the number of feature/categories in the output layer.  "
      ]
    },
    {
      "cell_type": "markdown",
      "metadata": {
        "id": "4kFSGCddYQxf"
      },
      "source": [
        "<a name=\"ex01\"></a>\n",
        "### Example 1\n",
        "Let's create a NumPy implementation:"
      ]
    },
    {
      "cell_type": "code",
      "execution_count": null,
      "metadata": {
        "deletable": false,
        "id": "9yc-nRWKYQxf"
      },
      "outputs": [],
      "source": [
        "# my_softmax\n",
        "\n",
        "def my_softmax(z):\n",
        "    \"\"\" Softmax converts a vector of values to a probability distribution.\n",
        "    Args:\n",
        "      z (ndarray (N,))  : input data, N features\n",
        "    Returns:\n",
        "      a (ndarray (N,))  : softmax of z\n",
        "    \"\"\"\n",
        "    ### START CODE HERE ###\n",
        "\n",
        "    N = len(z)\n",
        "    a = np.zeros(N)         # initialize a to zeros\n",
        "    ez_sum = 0              # initialize sum to zero\n",
        "    for k in range(N):      # loop over number of outputs\n",
        "        ez_sum += np.exp(z[k])       # sum exp(z[k]) to build the shared denominator\n",
        "    for j in range(N):               # loop over number of outputs again\n",
        "        a[j] = np.exp(z[j])/ez_sum   # divide each the exp of each output by the denominator\n",
        "\n",
        "    ### END CODE HERE ###\n",
        "    return a"
      ]
    },
    {
      "cell_type": "code",
      "execution_count": null,
      "metadata": {
        "deletable": false,
        "editable": false,
        "id": "e8NTpdevYQxf"
      },
      "outputs": [],
      "source": [
        "z = np.array([1., 2., 3., 4.])\n",
        "a = my_softmax(z)\n",
        "atf = tf.nn.softmax(z)\n",
        "print(f\"my_softmax(z):         {a}\")\n",
        "print(f\"tensorflow softmax(z): {atf}\")\n",
        "\n",
        "# BEGIN UNIT TEST\n",
        "test_my_softmax(my_softmax)\n",
        "# END UNIT TEST"
      ]
    },
    {
      "cell_type": "markdown",
      "metadata": {
        "id": "0Rwfc88OYQxf"
      },
      "source": [
        "<details>\n",
        "  <summary><font size=\"3\" color=\"darkgreen\"><b>Click for hints</b></font></summary>\n",
        "    One implementation uses for loop to first build the denominator and then a second loop to calculate each output.\n",
        "    \n",
        "```python\n",
        "def my_softmax(z):  \n",
        "    N = len(z)\n",
        "    a =                     # initialize a to zeros\n",
        "    ez_sum =                # initialize sum to zero\n",
        "    for k in range(N):      # loop over number of outputs             \n",
        "        ez_sum +=           # sum exp(z[k]) to build the shared denominator      \n",
        "    for j in range(N):      # loop over number of outputs again                \n",
        "        a[j] =              # divide each the exp of each output by the denominator   \n",
        "    return(a)\n",
        "```\n",
        "<details>\n",
        "  <summary><font size=\"3\" color=\"darkgreen\"><b>Click for code</b></font></summary>\n",
        "   \n",
        "```python\n",
        "def my_softmax(z):  \n",
        "    N = len(z)\n",
        "    a = np.zeros(N)\n",
        "    ez_sum = 0\n",
        "    for k in range(N):                \n",
        "        ez_sum += np.exp(z[k])       \n",
        "    for j in range(N):                \n",
        "        a[j] = np.exp(z[j])/ez_sum   \n",
        "    return(a)\n",
        "\n",
        "Or, a vector implementation:\n",
        "\n",
        "def my_softmax(z):  \n",
        "    ez = np.exp(z)              \n",
        "    a = ez/np.sum(ez)           \n",
        "    return(a)\n",
        "\n",
        "```\n"
      ]
    },
    {
      "cell_type": "markdown",
      "metadata": {
        "id": "cB2lCmrCYQxg"
      },
      "source": [
        "Below, vary the values of the `z` inputs. Note in particular how the exponential in the numerator magnifies small differences in the values. Note as well that the output values sum to one."
      ]
    },
    {
      "cell_type": "code",
      "execution_count": null,
      "metadata": {
        "deletable": false,
        "colab": {
          "referenced_widgets": [
            "1e608c0bf916432693efe92d02a3be17"
          ]
        },
        "id": "PRgcUO1dYQxg",
        "outputId": "c52c38ce-28af-4425-fc49-27d8c88150ab"
      },
      "outputs": [
        {
          "data": {
            "application/vnd.jupyter.widget-view+json": {
              "model_id": "1e608c0bf916432693efe92d02a3be17",
              "version_major": 2,
              "version_minor": 0
            },
            "text/plain": [
              "Canvas(toolbar=Toolbar(toolitems=[('Home', 'Reset original view', 'home', 'home'), ('Back', 'Back to previous …"
            ]
          },
          "metadata": {},
          "output_type": "display_data"
        }
      ],
      "source": [
        "plt.close(\"all\")\n",
        "plt_softmax(my_softmax)"
      ]
    },
    {
      "cell_type": "markdown",
      "metadata": {
        "tags": [],
        "id": "uPrHCDXAYQxg"
      },
      "source": [
        "<a name=\"4\"></a>\n",
        "## 4 - Neural Networks\n",
        "\n",
        "In last weeks assignment, you implemented a neural network to do binary classification. This week you will extend that to multiclass classification. This will utilize the softmax activation.\n",
        "\n",
        "\n",
        "<a name=\"4.1\"></a>\n",
        "### 4.1 Problem Statement\n",
        "\n",
        "In this exercise, you will use a neural network to recognize ten handwritten digits, 0-9. This is a multiclass classification task where one of n choices is selected. Automated handwritten digit recognition is widely used today - from recognizing zip codes (postal codes) on mail envelopes to recognizing amounts written on bank checks.\n",
        "\n",
        "\n",
        "<a name=\"4.2\"></a>\n",
        "### 4.2 Dataset\n",
        "\n",
        "You will start by loading the dataset for this task.\n",
        "- The `load_data()` function shown below loads the data into variables `X` and `y`\n",
        "\n",
        "\n",
        "- The data set contains 5000 training examples of handwritten digits $^1$.  \n",
        "\n",
        "    - Each training example is a 20-pixel x 20-pixel grayscale image of the digit.\n",
        "        - Each pixel is represented by a floating-point number indicating the grayscale intensity at that location.\n",
        "        - The 20 by 20 grid of pixels is “unrolled” into a 400-dimensional vector.\n",
        "        - Each training examples becomes a single row in our data matrix `X`.\n",
        "        - This gives us a 5000 x 400 matrix `X` where every row is a training example of a handwritten digit image.\n",
        "\n",
        "$$X =\n",
        "\\left(\\begin{array}{cc}\n",
        "--- (x^{(1)}) --- \\\\\n",
        "--- (x^{(2)}) --- \\\\\n",
        "\\vdots \\\\\n",
        "--- (x^{(m)}) ---\n",
        "\\end{array}\\right)$$\n",
        "\n",
        "- The second part of the training set is a 5000 x 1 dimensional vector `y` that contains labels for the training set\n",
        "    - `y = 0` if the image is of the digit `0`, `y = 4` if the image is of the digit `4` and so on.\n",
        "\n",
        "$^1$<sub> This is a subset of the MNIST handwritten digit dataset (http://yann.lecun.com/exdb/mnist/)</sub>"
      ]
    },
    {
      "cell_type": "code",
      "execution_count": null,
      "metadata": {
        "id": "ZRslPq3gYQxg"
      },
      "outputs": [],
      "source": [
        "def load_data():\n",
        "    X = np.load(\"data/X.npy\")\n",
        "    y = np.load(\"data/y.npy\")\n",
        "    return X, y"
      ]
    },
    {
      "cell_type": "code",
      "execution_count": null,
      "metadata": {
        "deletable": false,
        "id": "ScVX28C8YQxh"
      },
      "outputs": [],
      "source": [
        "# load dataset\n",
        "X, y = load_data()"
      ]
    },
    {
      "cell_type": "markdown",
      "metadata": {
        "id": "qs5ItgtdYQxh"
      },
      "source": [
        "#### 4.2.1 View the variables\n",
        "Let's get more familiar with your dataset.  \n",
        "- A good place to start is to print out each variable and see what it contains.\n",
        "\n",
        "The code below prints the first element in the variables `X` and `y`.  "
      ]
    },
    {
      "cell_type": "code",
      "execution_count": null,
      "metadata": {
        "deletable": false,
        "scrolled": true,
        "id": "BnsqM6uaYQxh",
        "outputId": "30203d20-8f03-4ca6-b774-55c7c5e4a3c8"
      },
      "outputs": [
        {
          "name": "stdout",
          "output_type": "stream",
          "text": [
            "The first element of X is:  [ 0.00e+00  0.00e+00  0.00e+00  0.00e+00  0.00e+00  0.00e+00  0.00e+00\n",
            "  0.00e+00  0.00e+00  0.00e+00  0.00e+00  0.00e+00  0.00e+00  0.00e+00\n",
            "  0.00e+00  0.00e+00  0.00e+00  0.00e+00  0.00e+00  0.00e+00  0.00e+00\n",
            "  0.00e+00  0.00e+00  0.00e+00  0.00e+00  0.00e+00  0.00e+00  0.00e+00\n",
            "  0.00e+00  0.00e+00  0.00e+00  0.00e+00  0.00e+00  0.00e+00  0.00e+00\n",
            "  0.00e+00  0.00e+00  0.00e+00  0.00e+00  0.00e+00  0.00e+00  0.00e+00\n",
            "  0.00e+00  0.00e+00  0.00e+00  0.00e+00  0.00e+00  0.00e+00  0.00e+00\n",
            "  0.00e+00  0.00e+00  0.00e+00  0.00e+00  0.00e+00  0.00e+00  0.00e+00\n",
            "  0.00e+00  0.00e+00  0.00e+00  0.00e+00  0.00e+00  0.00e+00  0.00e+00\n",
            "  0.00e+00  0.00e+00  0.00e+00  0.00e+00  8.56e-06  1.94e-06 -7.37e-04\n",
            " -8.13e-03 -1.86e-02 -1.87e-02 -1.88e-02 -1.91e-02 -1.64e-02 -3.78e-03\n",
            "  3.30e-04  1.28e-05  0.00e+00  0.00e+00  0.00e+00  0.00e+00  0.00e+00\n",
            "  0.00e+00  0.00e+00  1.16e-04  1.20e-04 -1.40e-02 -2.85e-02  8.04e-02\n",
            "  2.67e-01  2.74e-01  2.79e-01  2.74e-01  2.25e-01  2.78e-02 -7.06e-03\n",
            "  2.35e-04  0.00e+00  0.00e+00  0.00e+00  0.00e+00  0.00e+00  0.00e+00\n",
            "  1.28e-17 -3.26e-04 -1.39e-02  8.16e-02  3.83e-01  8.58e-01  1.00e+00\n",
            "  9.70e-01  9.31e-01  1.00e+00  9.64e-01  4.49e-01 -5.60e-03 -3.78e-03\n",
            "  0.00e+00  0.00e+00  0.00e+00  0.00e+00  5.11e-06  4.36e-04 -3.96e-03\n",
            " -2.69e-02  1.01e-01  6.42e-01  1.03e+00  8.51e-01  5.43e-01  3.43e-01\n",
            "  2.69e-01  6.68e-01  1.01e+00  9.04e-01  1.04e-01 -1.66e-02  0.00e+00\n",
            "  0.00e+00  0.00e+00  0.00e+00  2.60e-05 -3.11e-03  7.52e-03  1.78e-01\n",
            "  7.93e-01  9.66e-01  4.63e-01  6.92e-02 -3.64e-03 -4.12e-02 -5.02e-02\n",
            "  1.56e-01  9.02e-01  1.05e+00  1.51e-01 -2.16e-02  0.00e+00  0.00e+00\n",
            "  0.00e+00  5.87e-05 -6.41e-04 -3.23e-02  2.78e-01  9.37e-01  1.04e+00\n",
            "  5.98e-01 -3.59e-03 -2.17e-02 -4.81e-03  6.17e-05 -1.24e-02  1.55e-01\n",
            "  9.15e-01  9.20e-01  1.09e-01 -1.71e-02  0.00e+00  0.00e+00  1.56e-04\n",
            " -4.28e-04 -2.51e-02  1.31e-01  7.82e-01  1.03e+00  7.57e-01  2.85e-01\n",
            "  4.87e-03 -3.19e-03  0.00e+00  8.36e-04 -3.71e-02  4.53e-01  1.03e+00\n",
            "  5.39e-01 -2.44e-03 -4.80e-03  0.00e+00  0.00e+00 -7.04e-04 -1.27e-02\n",
            "  1.62e-01  7.80e-01  1.04e+00  8.04e-01  1.61e-01 -1.38e-02  2.15e-03\n",
            " -2.13e-04  2.04e-04 -6.86e-03  4.32e-04  7.21e-01  8.48e-01  1.51e-01\n",
            " -2.28e-02  1.99e-04  0.00e+00  0.00e+00 -9.40e-03  3.75e-02  6.94e-01\n",
            "  1.03e+00  1.02e+00  8.80e-01  3.92e-01 -1.74e-02 -1.20e-04  5.55e-05\n",
            " -2.24e-03 -2.76e-02  3.69e-01  9.36e-01  4.59e-01 -4.25e-02  1.17e-03\n",
            "  1.89e-05  0.00e+00  0.00e+00 -1.94e-02  1.30e-01  9.80e-01  9.42e-01\n",
            "  7.75e-01  8.74e-01  2.13e-01 -1.72e-02  0.00e+00  1.10e-03 -2.62e-02\n",
            "  1.23e-01  8.31e-01  7.27e-01  5.24e-02 -6.19e-03  0.00e+00  0.00e+00\n",
            "  0.00e+00  0.00e+00 -9.37e-03  3.68e-02  6.99e-01  1.00e+00  6.06e-01\n",
            "  3.27e-01 -3.22e-02 -4.83e-02 -4.34e-02 -5.75e-02  9.56e-02  7.27e-01\n",
            "  6.95e-01  1.47e-01 -1.20e-02 -3.03e-04  0.00e+00  0.00e+00  0.00e+00\n",
            "  0.00e+00 -6.77e-04 -6.51e-03  1.17e-01  4.22e-01  9.93e-01  8.82e-01\n",
            "  7.46e-01  7.24e-01  7.23e-01  7.20e-01  8.45e-01  8.32e-01  6.89e-02\n",
            " -2.78e-02  3.59e-04  7.15e-05  0.00e+00  0.00e+00  0.00e+00  0.00e+00\n",
            "  1.53e-04  3.17e-04 -2.29e-02 -4.14e-03  3.87e-01  5.05e-01  7.75e-01\n",
            "  9.90e-01  1.01e+00  1.01e+00  7.38e-01  2.15e-01 -2.70e-02  1.33e-03\n",
            "  0.00e+00  0.00e+00  0.00e+00  0.00e+00  0.00e+00  0.00e+00  0.00e+00\n",
            "  0.00e+00  2.36e-04 -2.26e-03 -2.52e-02 -3.74e-02  6.62e-02  2.91e-01\n",
            "  3.23e-01  3.06e-01  8.76e-02 -2.51e-02  2.37e-04  0.00e+00  0.00e+00\n",
            "  0.00e+00  0.00e+00  0.00e+00  0.00e+00  0.00e+00  0.00e+00  0.00e+00\n",
            "  0.00e+00  0.00e+00  6.21e-18  6.73e-04 -1.13e-02 -3.55e-02 -3.88e-02\n",
            " -3.71e-02 -1.34e-02  9.91e-04  4.89e-05  0.00e+00  0.00e+00  0.00e+00\n",
            "  0.00e+00  0.00e+00  0.00e+00  0.00e+00  0.00e+00  0.00e+00  0.00e+00\n",
            "  0.00e+00  0.00e+00  0.00e+00  0.00e+00  0.00e+00  0.00e+00  0.00e+00\n",
            "  0.00e+00  0.00e+00  0.00e+00  0.00e+00  0.00e+00  0.00e+00  0.00e+00\n",
            "  0.00e+00  0.00e+00  0.00e+00  0.00e+00  0.00e+00  0.00e+00  0.00e+00\n",
            "  0.00e+00  0.00e+00  0.00e+00  0.00e+00  0.00e+00  0.00e+00  0.00e+00\n",
            "  0.00e+00  0.00e+00  0.00e+00  0.00e+00  0.00e+00  0.00e+00  0.00e+00\n",
            "  0.00e+00]\n"
          ]
        }
      ],
      "source": [
        "print ('The first element of X is: ', X[0])"
      ]
    },
    {
      "cell_type": "code",
      "execution_count": null,
      "metadata": {
        "colab": {
          "referenced_widgets": [
            "72c97c51ae1547609861e670d9c5656a"
          ]
        },
        "id": "0DS3A7f3YQxh",
        "outputId": "837f2041-1d01-4ce1-8fef-a082de96d784"
      },
      "outputs": [
        {
          "data": {
            "application/vnd.jupyter.widget-view+json": {
              "model_id": "72c97c51ae1547609861e670d9c5656a",
              "version_major": 2,
              "version_minor": 0
            },
            "image/png": "[encoded data removed]",
            "text/html": [
              "\n",
              "            <div style=\"display: inline-block;\">\n",
              "                <div class=\"jupyter-widgets widget-label\" style=\"text-align: center;\">\n",
              "                    Figure\n",
              "                </div>\n",
              "                <img src='data:image/png;base64,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' width=640.0/>\n",
              "            </div>\n",
              "        "
            ],
            "text/plain": [
              "Canvas(toolbar=Toolbar(toolitems=[('Home', 'Reset original view', 'home', 'home'), ('Back', 'Back to previous …"
            ]
          },
          "metadata": {},
          "output_type": "display_data"
        }
      ],
      "source": [
        "# Display the first element of X as an image and print normalized values\n",
        "X_reshaped = X[0].reshape((20,20)).T\n",
        "\n",
        "plt.imshow(X_reshaped, cmap='gray')\n",
        "plt.title('First element of X')\n",
        "plt.axis('off')\n",
        "plt.show()"
      ]
    },
    {
      "cell_type": "code",
      "execution_count": null,
      "metadata": {
        "id": "PGaixsVFYQxh",
        "outputId": "fc98748a-b930-4740-9ea7-6d4beb77175b"
      },
      "outputs": [
        {
          "name": "stdout",
          "output_type": "stream",
          "text": [
            "Normalized integer values of the first element of X (20x20 grid):\n",
            "[[ 13  13  13  13  13  13  13  13  13  13  13  13  13  13  13  13  13  13\n",
            "   13  13]\n",
            " [ 13  13  13  13  13  13  13  13  13  13  13  11   8  11  13  13  13  13\n",
            "   13  13]\n",
            " [ 13  13  13  13  13  13  13  13  13  13  10  21  43  21  11  13  13  13\n",
            "   13  13]\n",
            " [ 13  13  13  13  13  13  13  13  13   7  50 173 239 174  40   7  13  13\n",
            "   13  13]\n",
            " [ 13  13  13  13  13  13  13  12   5  43 193 250 230 244 110  12  12  13\n",
            "   13  13]\n",
            " [ 13  13  13  13  13  13  12  15  77 193 252 247 192 153 242 102   7  13\n",
            "   13  13]\n",
            " [ 13  13  13  13  13  13   7  54 229 250 198 216 214  88 216 129   4  13\n",
            "   13  13]\n",
            " [ 13  13  13  13  13  10  36 196 254 187  50 103  62   5 185 192  28  10\n",
            "   13  13]\n",
            " [ 13  13  13  13  10  32 161 236 151  78  10   9   9   2 180 241  80   5\n",
            "   13  13]\n",
            " [ 13  13  13  13   6 101 251 120  12  14  13  13  13   3 180 245  87   4\n",
            "   13  13]\n",
            " [ 13  13  13  11  31 211 209  29   8  12  13  13  13   0 179 246  83   4\n",
            "   13  13]\n",
            " [ 13  13  13   8  74 244 138  12  12  13  13  12   7  35 208 183  33  10\n",
            "   13  13]\n",
            " [ 13  13  13   8  76 237  92   3  13  13  11   6  41 180 205  62   7  13\n",
            "   13  13]\n",
            " [ 13  13  13   8  77 228  75   1  10   4  13  98 204 173  29   7  13  13\n",
            "   13  13]\n",
            " [ 13  13  13   8  76 244 167  49  49 117 179 229 180  47   6  13  13  13\n",
            "   13  13]\n",
            " [ 13  13  13   9  65 235 246 221 224 251 208 119  25  10  13  13  13  13\n",
            "   13  13]\n",
            " [ 13  13  13  12  19 116 221 255 225 137  48   3  11  13  13  13  13  13\n",
            "   13  13]\n",
            " [ 13  13  13  13  11  11  37  48  38  12   8  13  13  13  13  13  13  13\n",
            "   13  13]\n",
            " [ 13  13  13  13  13  12   9   8   9  12  13  13  13  13  13  13  13  13\n",
            "   13  13]\n",
            " [ 13  13  13  13  13  13  13  13  13  13  13  13  13  13  13  13  13  13\n",
            "   13  13]]\n"
          ]
        }
      ],
      "source": [
        "# Normalize values between 0 and 255 and convert to integers\n",
        "X_normalized_int = ((X_reshaped - X_reshaped.min()) / (X_reshaped.max() - X_reshaped.min()) * 255).astype(int)\n",
        "\n",
        "print(\"Normalized integer values of the first element of X (20x20 grid):\")\n",
        "print(X_normalized_int)"
      ]
    },
    {
      "cell_type": "code",
      "execution_count": null,
      "metadata": {
        "deletable": false,
        "id": "mJbmGw1DYQxh",
        "outputId": "27b4ad8e-2ea9-4ef5-b960-64927f586cfb"
      },
      "outputs": [
        {
          "name": "stdout",
          "output_type": "stream",
          "text": [
            "The first element of y is:  0\n",
            "The last element of y is:  9\n"
          ]
        }
      ],
      "source": [
        "print ('The first element of y is: ', y[0,0])\n",
        "print ('The last element of y is: ', y[-1,0])"
      ]
    },
    {
      "cell_type": "markdown",
      "metadata": {
        "id": "YBFfQaDyYQxh"
      },
      "source": [
        "#### 4.2.2 Check the dimensions of your variables\n",
        "\n",
        "Another way to get familiar with your data is to view its dimensions. Please print the shape of `X` and `y` and see how many training examples you have in your dataset."
      ]
    },
    {
      "cell_type": "code",
      "execution_count": null,
      "metadata": {
        "deletable": false,
        "id": "XDpdrkmKYQxi",
        "outputId": "ee07e202-92c8-4ae8-a3dc-6eb605ea8242"
      },
      "outputs": [
        {
          "name": "stdout",
          "output_type": "stream",
          "text": [
            "The shape of X is: (5000, 400)\n",
            "The shape of y is: (5000, 1)\n"
          ]
        }
      ],
      "source": [
        "print ('The shape of X is: ' + str(X.shape))\n",
        "print ('The shape of y is: ' + str(y.shape))"
      ]
    },
    {
      "cell_type": "markdown",
      "metadata": {
        "id": "84JDHy1xYQxi"
      },
      "source": [
        "#### 4.2.3 Visualizing the Data\n",
        "\n",
        "You will begin by visualizing a subset of the training set.\n",
        "- In the cell below, the code randomly selects 64 rows from `X`, maps each row back to a 20 pixel by 20 pixel grayscale image and displays the images together.\n",
        "- The label for each image is displayed above the image"
      ]
    },
    {
      "cell_type": "code",
      "execution_count": null,
      "metadata": {
        "deletable": false,
        "colab": {
          "referenced_widgets": [
            "5b02e3650ecd44ca89003117afc4a085"
          ]
        },
        "id": "80nO3j-UYQxi",
        "outputId": "9037f8b2-3d02-45ad-9270-9739d479447b"
      },
      "outputs": [
        {
          "data": {
            "application/vnd.jupyter.widget-view+json": {
              "model_id": "5b02e3650ecd44ca89003117afc4a085",
              "version_major": 2,
              "version_minor": 0
            },
            "text/plain": [
              "Canvas(toolbar=Toolbar(toolitems=[('Home', 'Reset original view', 'home', 'home'), ('Back', 'Back to previous …"
            ]
          },
          "metadata": {},
          "output_type": "display_data"
        }
      ],
      "source": [
        "import warnings\n",
        "warnings.simplefilter(action='ignore', category=FutureWarning)\n",
        "# You do not need to modify anything in this cell\n",
        "\n",
        "m, n = X.shape\n",
        "\n",
        "fig, axes = plt.subplots(8,8, figsize=(5,5))\n",
        "fig.tight_layout(pad=0.13,rect=[0, 0.03, 1, 0.91]) #[left, bottom, right, top]\n",
        "\n",
        "#fig.tight_layout(pad=0.5)\n",
        "widgvis(fig)\n",
        "for i,ax in enumerate(axes.flat):\n",
        "    # Select random indices\n",
        "    random_index = np.random.randint(m)\n",
        "\n",
        "    # Select rows corresponding to the random indices and\n",
        "    # reshape the image\n",
        "    X_random_reshaped = X[random_index].reshape((20,20)).T\n",
        "\n",
        "    # Display the image\n",
        "    ax.imshow(X_random_reshaped, cmap='gray')\n",
        "\n",
        "    # Display the label above the image\n",
        "    ax.set_title(y[random_index,0])\n",
        "    ax.set_axis_off()\n",
        "    fig.suptitle(\"Label, image\", fontsize=14)"
      ]
    },
    {
      "cell_type": "markdown",
      "metadata": {
        "id": "0O2wDDfUYQxi"
      },
      "source": [
        "<a name=\"4.3\"></a>\n",
        "### 4.3 Model representation\n",
        "\n",
        "The neural network you will use in this assignment is shown in the figure below.\n",
        "- This has two dense layers with ReLU activations followed by an output layer with a linear activation.\n",
        "    - Recall that our inputs are pixel values of digit images.\n",
        "    - Since the images are of size $20\\times20$, this gives us $400$ inputs  \n",
        "    \n",
        "<img src=\"https://github.com/Abdul-git25/digit-recognize/blob/main/images/Assigment_NN.png?raw=1\" width=\"600\" height=\"450\">"
      ]
    },
    {
      "cell_type": "markdown",
      "metadata": {
        "id": "WyMDCuqUYQxi"
      },
      "source": [
        "- The parameters have dimensions that are sized for a neural network with $25$ units in layer 1, $15$ units in layer 2 and $10$ output units in layer 3, one for each digit.\n",
        "\n",
        "    - Recall that the dimensions of these parameters is determined as follows:\n",
        "        - If network has $s_{in}$ units in a layer and $s_{out}$ units in the next layer, then\n",
        "            - $W$ will be of dimension $s_{in} \\times s_{out}$.\n",
        "            - $b$ will be a vector with $s_{out}$ elements\n",
        "  \n",
        "    - Therefore, the shapes of `W`, and `b`,  are\n",
        "        - layer1: The shape of `W1` is (400, 25) and the shape of `b1` is (25,)\n",
        "        - layer2: The shape of `W2` is (25, 15) and the shape of `b2` is: (15,)\n",
        "        - layer3: The shape of `W3` is (15, 10) and the shape of `b3` is: (10,)\n",
        ">**Note:** The bias vector `b` could be represented as a 1-D (n,) or 2-D (n,1) array. Tensorflow utilizes a 1-D representation and this lab will maintain that convention:\n",
        "               "
      ]
    },
    {
      "cell_type": "markdown",
      "metadata": {
        "id": "_t0uz-b-YQxi"
      },
      "source": [
        "<a name=\"4.4\"></a>\n",
        "### 4.4 Tensorflow Model Implementation\n"
      ]
    },
    {
      "cell_type": "markdown",
      "metadata": {
        "id": "UaLzf1ZRYQxi"
      },
      "source": [
        "Tensorflow models are built layer by layer. A layer's input dimensions ($s_{in}$ above) are calculated for you. You specify a layer's *output dimensions* and this determines the next layer's input dimension. The input dimension of the first layer is derived from the size of the input data specified in the `model.fit` statement below.\n",
        ">**Note:** It is also possible to add an input layer that specifies the input dimension of the first layer. For example:  \n",
        "`tf.keras.Input(shape=(400,)),    #specify input shape`  \n",
        "We will include that here to illuminate some model sizing."
      ]
    },
    {
      "cell_type": "markdown",
      "metadata": {
        "id": "oNAv0Lx3YQxi"
      },
      "source": [
        "<a name=\"4.5\"></a>\n",
        "### 4.5 Softmax placement\n",
        "As described in the lecture and the optional softmax lab, numerical stability is improved if the softmax is grouped with the loss function rather than the output layer during training. This has implications when *building* the model and *using* the model.  \n",
        "Building:  \n",
        "* The final Dense layer should use a 'linear' activation. This is effectively no activation.\n",
        "* The `model.compile` statement will indicate this by including `from_logits=True`.\n",
        "`loss=tf.keras.losses.SparseCategoricalCrossentropy(from_logits=True) `  \n",
        "* This does not impact the form of the target. In the case of SparseCategorialCrossentropy, the target is the expected digit, 0-9.\n",
        "\n",
        "Using the model:\n",
        "* The outputs are not probabilities. If output probabilities are desired, apply a softmax function."
      ]
    },
    {
      "cell_type": "markdown",
      "metadata": {
        "id": "ENMRLOBoYQxi"
      },
      "source": [
        "<a name=\"ex02\"></a>\n",
        "### Example 2\n",
        "\n",
        "Below, using Keras [Sequential model](https://keras.io/guides/sequential_model/) and [Dense Layer](https://keras.io/api/layers/core_layers/dense/) with a ReLU activation to construct the three layer network described above."
      ]
    },
    {
      "cell_type": "code",
      "execution_count": null,
      "metadata": {
        "deletable": false,
        "id": "JEiDzc5gYQxi"
      },
      "outputs": [],
      "source": [
        "# UNQ_C2\n",
        "# GRADED CELL: Sequential model\n",
        "tf.random.set_seed(1234) # for consistent results\n",
        "model = Sequential(\n",
        "    [\n",
        "        ### START CODE HERE ###\n",
        "        tf.keras.Input(shape=(400,)),\n",
        "        Dense(25, activation='relu', name = \"L1\"),\n",
        "        Dense(15, activation='relu',  name = \"L2\"),\n",
        "        Dense(10, activation='linear', name = \"L3\"),\n",
        "\n",
        "        ### END CODE HERE ###\n",
        "    ], name = \"my_model\"\n",
        ")"
      ]
    },
    {
      "cell_type": "code",
      "execution_count": null,
      "metadata": {
        "deletable": false,
        "id": "ViQ035YlYQxi",
        "outputId": "a9b75910-e3ab-4516-c754-9c175609c275"
      },
      "outputs": [
        {
          "name": "stdout",
          "output_type": "stream",
          "text": [
            "Model: \"my_model\"\n",
            "_________________________________________________________________\n",
            " Layer (type)                Output Shape              Param #   \n",
            "=================================================================\n",
            " L1 (Dense)                  (None, 25)                10025     \n",
            "                                                                 \n",
            " L2 (Dense)                  (None, 15)                390       \n",
            "                                                                 \n",
            " L3 (Dense)                  (None, 10)                160       \n",
            "                                                                 \n",
            "=================================================================\n",
            "Total params: 10,575\n",
            "Trainable params: 10,575\n",
            "Non-trainable params: 0\n",
            "_________________________________________________________________\n"
          ]
        }
      ],
      "source": [
        "model.summary()"
      ]
    },
    {
      "cell_type": "markdown",
      "metadata": {
        "id": "2f5YnADZYQxi"
      },
      "source": [
        "<details>\n",
        "  <summary><font size=\"3\" color=\"darkgreen\"><b>Expected Output (Click to expand)</b></font></summary>\n",
        "The `model.summary()` function displays a useful summary of the model. Note, the names of the layers may vary as they are auto-generated unless the name is specified.    \n",
        "    \n",
        "```\n",
        "Model: \"my_model\"\n",
        "_________________________________________________________________\n",
        "Layer (type)                 Output Shape              Param #   \n",
        "=================================================================\n",
        "L1 (Dense)                   (None, 25)                10025     \n",
        "_________________________________________________________________\n",
        "L2 (Dense)                   (None, 15)                390       \n",
        "_________________________________________________________________\n",
        "L3 (Dense)                   (None, 10)                160       \n",
        "=================================================================\n",
        "Total params: 10,575\n",
        "Trainable params: 10,575\n",
        "Non-trainable params: 0\n",
        "_________________________________________________________________\n",
        "```"
      ]
    },
    {
      "cell_type": "markdown",
      "metadata": {
        "id": "ei5GOdaPYQxi"
      },
      "source": [
        "<details>\n",
        "  <summary><font size=\"3\" color=\"darkgreen\"><b>Click for hints</b></font></summary>\n",
        "    \n",
        "```python\n",
        "tf.random.set_seed(1234)\n",
        "model = Sequential(\n",
        "    [               \n",
        "        ### START CODE HERE ###\n",
        "        tf.keras.Input(shape=(400,)),     # @REPLACE\n",
        "        Dense(25, activation='relu', name = \"L1\"), # @REPLACE\n",
        "        Dense(15, activation='relu',  name = \"L2\"), # @REPLACE  \n",
        "        Dense(10, activation='linear', name = \"L3\"),  # @REPLACE\n",
        "        ### END CODE HERE ###\n",
        "    ], name = \"my_model\"\n",
        ")\n",
        "```"
      ]
    },
    {
      "cell_type": "code",
      "execution_count": null,
      "metadata": {
        "deletable": false,
        "editable": false,
        "id": "RwGCo1ZAYQxj",
        "outputId": "509f9707-e208-4ca1-a3af-6d71e720a91c"
      },
      "outputs": [
        {
          "name": "stdout",
          "output_type": "stream",
          "text": [
            "\u001b[92mAll tests passed!\n"
          ]
        }
      ],
      "source": [
        "# BEGIN UNIT TEST\n",
        "test_model(model, 10, 400)\n",
        "# END UNIT TEST"
      ]
    },
    {
      "cell_type": "markdown",
      "metadata": {
        "id": "4I_g5yZ1YQxj"
      },
      "source": [
        "The parameter counts shown in the summary correspond to the number of elements in the weight and bias arrays as shown below."
      ]
    },
    {
      "cell_type": "markdown",
      "metadata": {
        "id": "_1VZPscDYQxj"
      },
      "source": [
        "Let's further examine the weights to verify that tensorflow produced the same dimensions as we calculated above."
      ]
    },
    {
      "cell_type": "code",
      "execution_count": null,
      "metadata": {
        "deletable": false,
        "id": "wXyExofHYQxj"
      },
      "outputs": [],
      "source": [
        "[layer1, layer2, layer3] = model.layers"
      ]
    },
    {
      "cell_type": "code",
      "execution_count": null,
      "metadata": {
        "deletable": false,
        "id": "2aSXLWSgYQxj",
        "outputId": "89e9e3e0-762a-4c66-9189-6d75551db901"
      },
      "outputs": [
        {
          "name": "stdout",
          "output_type": "stream",
          "text": [
            "W1 shape = (400, 25), b1 shape = (25,)\n",
            "W2 shape = (25, 15), b2 shape = (15,)\n",
            "W3 shape = (15, 10), b3 shape = (10,)\n"
          ]
        }
      ],
      "source": [
        "#### Examine Weights shapes\n",
        "W1,b1 = layer1.get_weights()\n",
        "W2,b2 = layer2.get_weights()\n",
        "W3,b3 = layer3.get_weights()\n",
        "print(f\"W1 shape = {W1.shape}, b1 shape = {b1.shape}\")\n",
        "print(f\"W2 shape = {W2.shape}, b2 shape = {b2.shape}\")\n",
        "print(f\"W3 shape = {W3.shape}, b3 shape = {b3.shape}\")"
      ]
    },
    {
      "cell_type": "markdown",
      "metadata": {
        "id": "sX5bt3Y_YQxj"
      },
      "source": [
        "**Expected Output**\n",
        "```\n",
        "W1 shape = (400, 25), b1 shape = (25,)  \n",
        "W2 shape = (25, 15), b2 shape = (15,)  \n",
        "W3 shape = (15, 10), b3 shape = (10,)\n",
        "```"
      ]
    },
    {
      "cell_type": "markdown",
      "metadata": {
        "id": "B_VrwrW3YQxj"
      },
      "source": [
        "The following code:\n",
        "* defines a loss function, `SparseCategoricalCrossentropy` and indicates the softmax should be included with the  loss calculation by adding `from_logits=True`)\n",
        "* defines an optimizer. A popular choice is Adaptive Moment (Adam) which was described in lecture."
      ]
    },
    {
      "cell_type": "code",
      "execution_count": null,
      "metadata": {
        "deletable": false,
        "scrolled": true,
        "id": "OmLHHk-BYQxj",
        "outputId": "2351cbd9-3a2c-4cc9-c365-50168e4c1fc9"
      },
      "outputs": [
        {
          "name": "stdout",
          "output_type": "stream",
          "text": [
            "Epoch 1/40\n",
            "157/157 [==============================] - 1s 2ms/step - loss: 1.7094\n",
            "Epoch 2/40\n",
            "157/157 [==============================] - 0s 2ms/step - loss: 0.7480\n",
            "Epoch 3/40\n",
            "157/157 [==============================] - 0s 2ms/step - loss: 0.4428\n",
            "Epoch 4/40\n",
            "157/157 [==============================] - 0s 2ms/step - loss: 0.3463\n",
            "Epoch 5/40\n",
            "157/157 [==============================] - 0s 2ms/step - loss: 0.2977\n",
            "Epoch 6/40\n",
            "157/157 [==============================] - 0s 2ms/step - loss: 0.2630\n",
            "Epoch 7/40\n",
            "157/157 [==============================] - 0s 2ms/step - loss: 0.2361\n",
            "Epoch 8/40\n",
            "157/157 [==============================] - 0s 2ms/step - loss: 0.2131\n",
            "Epoch 9/40\n",
            "157/157 [==============================] - 0s 2ms/step - loss: 0.2004\n",
            "Epoch 10/40\n",
            "157/157 [==============================] - 0s 2ms/step - loss: 0.1805\n",
            "Epoch 11/40\n",
            "157/157 [==============================] - 0s 2ms/step - loss: 0.1692\n",
            "Epoch 12/40\n",
            "157/157 [==============================] - 0s 2ms/step - loss: 0.1580\n",
            "Epoch 13/40\n",
            "157/157 [==============================] - 0s 2ms/step - loss: 0.1507\n",
            "Epoch 14/40\n",
            "157/157 [==============================] - 0s 2ms/step - loss: 0.1396\n",
            "Epoch 15/40\n",
            "157/157 [==============================] - 0s 2ms/step - loss: 0.1289\n",
            "Epoch 16/40\n",
            "157/157 [==============================] - 0s 2ms/step - loss: 0.1255\n",
            "Epoch 17/40\n",
            "157/157 [==============================] - 0s 2ms/step - loss: 0.1154\n",
            "Epoch 18/40\n",
            "157/157 [==============================] - 0s 2ms/step - loss: 0.1102\n",
            "Epoch 19/40\n",
            "157/157 [==============================] - 0s 2ms/step - loss: 0.1016\n",
            "Epoch 20/40\n",
            "157/157 [==============================] - 0s 2ms/step - loss: 0.0970\n",
            "Epoch 21/40\n",
            "157/157 [==============================] - 0s 2ms/step - loss: 0.0926\n",
            "Epoch 22/40\n",
            "157/157 [==============================] - 0s 2ms/step - loss: 0.0891\n",
            "Epoch 23/40\n",
            "157/157 [==============================] - 0s 2ms/step - loss: 0.0828\n",
            "Epoch 24/40\n",
            "157/157 [==============================] - 0s 2ms/step - loss: 0.0785\n",
            "Epoch 25/40\n",
            "157/157 [==============================] - 0s 2ms/step - loss: 0.0755\n",
            "Epoch 26/40\n",
            "157/157 [==============================] - 0s 2ms/step - loss: 0.0713\n",
            "Epoch 27/40\n",
            "157/157 [==============================] - 0s 2ms/step - loss: 0.0701\n",
            "Epoch 28/40\n",
            "157/157 [==============================] - 0s 2ms/step - loss: 0.0617\n",
            "Epoch 29/40\n",
            "157/157 [==============================] - 0s 2ms/step - loss: 0.0578\n",
            "Epoch 30/40\n",
            "157/157 [==============================] - 0s 2ms/step - loss: 0.0550\n",
            "Epoch 31/40\n",
            "157/157 [==============================] - 0s 2ms/step - loss: 0.0511\n",
            "Epoch 32/40\n",
            "157/157 [==============================] - 0s 2ms/step - loss: 0.0499\n",
            "Epoch 33/40\n",
            "157/157 [==============================] - 0s 2ms/step - loss: 0.0462\n",
            "Epoch 34/40\n",
            "157/157 [==============================] - 0s 2ms/step - loss: 0.0437\n",
            "Epoch 35/40\n",
            "157/157 [==============================] - 0s 2ms/step - loss: 0.0422\n",
            "Epoch 36/40\n",
            "157/157 [==============================] - 0s 2ms/step - loss: 0.0396\n",
            "Epoch 37/40\n",
            "157/157 [==============================] - 0s 2ms/step - loss: 0.0366\n",
            "Epoch 38/40\n",
            "157/157 [==============================] - 0s 2ms/step - loss: 0.0344\n",
            "Epoch 39/40\n",
            "157/157 [==============================] - 0s 2ms/step - loss: 0.0312\n",
            "Epoch 40/40\n",
            "157/157 [==============================] - 0s 2ms/step - loss: 0.0294\n"
          ]
        }
      ],
      "source": [
        "model.compile(\n",
        "    loss=tf.keras.losses.SparseCategoricalCrossentropy(from_logits=True),\n",
        "    optimizer=tf.keras.optimizers.Adam(learning_rate=0.001),\n",
        ")\n",
        "\n",
        "history = model.fit(\n",
        "    X,y,\n",
        "    epochs=40\n",
        ")"
      ]
    },
    {
      "cell_type": "markdown",
      "metadata": {
        "id": "isuVXJ7nYQxj"
      },
      "source": [
        "#### Epochs and batches\n",
        "In the `fit` statement above, the number of `epochs` was set to 40. This specifies that the entire data set should be applied during training 40 times.  During training, you see output describing the progress of training that looks like this:\n",
        "```\n",
        "Epoch 1/40\n",
        "157/157 [==============================] - 0s 1ms/step - loss: 2.2770\n",
        "```\n",
        "The first line, `Epoch 1/40`, describes which epoch the model is currently running. For efficiency, the training data set is broken into 'batches'. The default size of a batch in Tensorflow is 32. There are 5000 examples in our data set or roughly 157 batches. The notation on the 2nd line `157/157 [====` is describing which batch has been executed."
      ]
    },
    {
      "cell_type": "markdown",
      "metadata": {
        "id": "IkMGsPFTYQxj"
      },
      "source": [
        "#### Loss  (cost)\n",
        "In course 1, we learned to track the progress of gradient descent by monitoring the cost. Ideally, the cost will decrease as the number of iterations of the algorithm increases. Tensorflow refers to the cost as `loss`. Above, you saw the loss displayed each epoch as `model.fit` was executing. The [.fit](https://www.tensorflow.org/api_docs/python/tf/keras/Model) method returns a variety of metrics including the loss. This is captured in the `history` variable above. This can be used to examine the loss in a plot as shown below."
      ]
    },
    {
      "cell_type": "code",
      "execution_count": null,
      "metadata": {
        "deletable": false,
        "colab": {
          "referenced_widgets": [
            "1da9ac9451854b399b03fc8b894f63ec"
          ]
        },
        "id": "7LTyGha9YQxj",
        "outputId": "0514d099-ca4e-405b-f896-1ae41c7a5d83"
      },
      "outputs": [
        {
          "data": {
            "application/vnd.jupyter.widget-view+json": {
              "model_id": "1da9ac9451854b399b03fc8b894f63ec",
              "version_major": 2,
              "version_minor": 0
            },
            "text/plain": [
              "Canvas(toolbar=Toolbar(toolitems=[('Home', 'Reset original view', 'home', 'home'), ('Back', 'Back to previous …"
            ]
          },
          "metadata": {},
          "output_type": "display_data"
        }
      ],
      "source": [
        "plot_loss_tf(history)"
      ]
    },
    {
      "cell_type": "markdown",
      "metadata": {
        "id": "F-rdwvmdYQxj"
      },
      "source": [
        "#### Prediction\n",
        "To make a prediction, use Keras `predict`. Below, X[1015] contains an image of a two."
      ]
    },
    {
      "cell_type": "code",
      "execution_count": null,
      "metadata": {
        "deletable": false,
        "colab": {
          "referenced_widgets": [
            "0aa9cb79d4b4452798b6b7b5d9e39502"
          ]
        },
        "id": "HA_9nexVYQxk",
        "outputId": "16781254-940a-459e-a9c5-131d42c973bb"
      },
      "outputs": [
        {
          "data": {
            "application/vnd.jupyter.widget-view+json": {
              "model_id": "0aa9cb79d4b4452798b6b7b5d9e39502",
              "version_major": 2,
              "version_minor": 0
            },
            "text/plain": [
              "Canvas(toolbar=Toolbar(toolitems=[('Home', 'Reset original view', 'home', 'home'), ('Back', 'Back to previous …"
            ]
          },
          "metadata": {},
          "output_type": "display_data"
        },
        {
          "name": "stdout",
          "output_type": "stream",
          "text": [
            " predicting a Two: \n",
            "[[ -7.99  -2.23   0.77  -2.41 -11.66 -11.15  -9.53  -3.36  -4.42  -7.17]]\n",
            " Largest Prediction index: 2\n"
          ]
        }
      ],
      "source": [
        "image_of_two = X[1015]\n",
        "display_digit(image_of_two)\n",
        "\n",
        "prediction = model.predict(image_of_two.reshape(1,400))  # prediction\n",
        "\n",
        "print(f\" predicting a Two: \\n{prediction}\")\n",
        "print(f\" Largest Prediction index: {np.argmax(prediction)}\")"
      ]
    },
    {
      "cell_type": "markdown",
      "metadata": {
        "id": "RnfyVasXYQxk"
      },
      "source": [
        "The largest output is prediction[2], indicating the predicted digit is a '2'. If the problem only requires a selection, that is sufficient. Use NumPy [argmax](https://numpy.org/doc/stable/reference/generated/numpy.argmax.html) to select it. If the problem requires a probability, a softmax is required:"
      ]
    },
    {
      "cell_type": "code",
      "execution_count": null,
      "metadata": {
        "deletable": false,
        "id": "BR1OPgKwYQxk",
        "outputId": "c4a5b17a-f57c-4a56-d129-1c939e2dce0b"
      },
      "outputs": [
        {
          "name": "stdout",
          "output_type": "stream",
          "text": [
            " predicting a Two. Probability vector: \n",
            "[[1.42e-04 4.49e-02 8.98e-01 3.76e-02 3.61e-06 5.97e-06 3.03e-05 1.44e-02\n",
            "  5.03e-03 3.22e-04]]\n",
            "Total of predictions: 1.000\n"
          ]
        }
      ],
      "source": [
        "prediction_p = tf.nn.softmax(prediction)\n",
        "\n",
        "print(f\" predicting a Two. Probability vector: \\n{prediction_p}\")\n",
        "print(f\"Total of predictions: {np.sum(prediction_p):0.3f}\")"
      ]
    },
    {
      "cell_type": "markdown",
      "metadata": {
        "id": "3HQPrX62YQxk"
      },
      "source": [
        "To return an integer representing the predicted target, you want the index of the largest probability. This is accomplished with the Numpy [argmax](https://numpy.org/doc/stable/reference/generated/numpy.argmax.html) function."
      ]
    },
    {
      "cell_type": "code",
      "execution_count": null,
      "metadata": {
        "deletable": false,
        "id": "i6ZS_5zmYQxk",
        "outputId": "dcfd5a3d-de15-491f-f858-57165586689d"
      },
      "outputs": [
        {
          "name": "stdout",
          "output_type": "stream",
          "text": [
            "np.argmax(prediction_p): 2\n"
          ]
        }
      ],
      "source": [
        "yhat = np.argmax(prediction_p)\n",
        "\n",
        "print(f\"np.argmax(prediction_p): {yhat}\")"
      ]
    },
    {
      "cell_type": "markdown",
      "metadata": {
        "id": "4BaIkAtpYQxk"
      },
      "source": [
        "Let's compare the predictions vs the labels for a random sample of 64 digits. This takes a moment to run."
      ]
    },
    {
      "cell_type": "code",
      "execution_count": null,
      "metadata": {
        "deletable": false,
        "colab": {
          "referenced_widgets": [
            "c09b55a011e14997800f179d1389d9d5"
          ]
        },
        "id": "dTn4NLKVYQxk",
        "outputId": "4c9dbd0f-6eba-43c3-a10d-c8147fd1262d"
      },
      "outputs": [
        {
          "data": {
            "application/vnd.jupyter.widget-view+json": {
              "model_id": "c09b55a011e14997800f179d1389d9d5",
              "version_major": 2,
              "version_minor": 0
            },
            "text/plain": [
              "Canvas(toolbar=Toolbar(toolitems=[('Home', 'Reset original view', 'home', 'home'), ('Back', 'Back to previous …"
            ]
          },
          "metadata": {},
          "output_type": "display_data"
        }
      ],
      "source": [
        "import warnings\n",
        "warnings.simplefilter(action='ignore', category=FutureWarning)\n",
        "# You do not need to modify anything in this cell\n",
        "\n",
        "m, n = X.shape\n",
        "\n",
        "fig, axes = plt.subplots(8,8, figsize=(5,5))\n",
        "fig.tight_layout(pad=0.13,rect=[0, 0.03, 1, 0.91]) #[left, bottom, right, top]\n",
        "widgvis(fig)\n",
        "for i,ax in enumerate(axes.flat):\n",
        "    # Select random indices\n",
        "    random_index = np.random.randint(m)\n",
        "\n",
        "    # Select rows corresponding to the random indices and\n",
        "    # reshape the image\n",
        "    X_random_reshaped = X[random_index].reshape((20,20)).T\n",
        "\n",
        "    # Display the image\n",
        "    ax.imshow(X_random_reshaped, cmap='gray')\n",
        "\n",
        "    # Predict using the Neural Network\n",
        "    prediction = model.predict(X[random_index].reshape(1,400))\n",
        "    prediction_p = tf.nn.softmax(prediction)\n",
        "    yhat = np.argmax(prediction_p)\n",
        "\n",
        "    # Display the label above the image\n",
        "    ax.set_title(f\"{y[random_index,0]},{yhat}\",fontsize=10)\n",
        "    ax.set_axis_off()\n",
        "fig.suptitle(\"Label, yhat\", fontsize=14)\n",
        "plt.show()"
      ]
    },
    {
      "cell_type": "markdown",
      "metadata": {
        "id": "EbUKKkvAYQxk"
      },
      "source": [
        "Let's look at some of the errors.\n",
        ">Note: increasing the number of training epochs can eliminate the errors on this data set."
      ]
    },
    {
      "cell_type": "code",
      "execution_count": null,
      "metadata": {
        "deletable": false,
        "colab": {
          "referenced_widgets": [
            "ba6557645d9d41b1975d7f59a8aa074f"
          ]
        },
        "id": "3YMtN7zMYQxk",
        "outputId": "816188c5-0205-4696-d18f-8c8883c62917"
      },
      "outputs": [
        {
          "data": {
            "application/vnd.jupyter.widget-view+json": {
              "model_id": "ba6557645d9d41b1975d7f59a8aa074f",
              "version_major": 2,
              "version_minor": 0
            },
            "text/plain": [
              "Canvas(toolbar=Toolbar(toolitems=[('Home', 'Reset original view', 'home', 'home'), ('Back', 'Back to previous …"
            ]
          },
          "metadata": {},
          "output_type": "display_data"
        },
        {
          "name": "stdout",
          "output_type": "stream",
          "text": [
            "15 errors out of 5000 images\n"
          ]
        }
      ],
      "source": [
        "print( f\"{display_errors(model,X,y)} errors out of {len(X)} images\")"
      ]
    },
    {
      "cell_type": "markdown",
      "metadata": {
        "id": "7WfOZwvBYQxk"
      },
      "source": [
        "### Congratulations!\n",
        "You have successfully built and utilized a neural network to do multiclass classification."
      ]
    },
    {
      "cell_type": "markdown",
      "metadata": {
        "id": "5GFjpxyVYQxk"
      },
      "source": [
        "<details>\n",
        "  <summary><font size=\"2\" color=\"darkgreen\"><b>Please click here if you want to experiment with any of the non-graded code.</b></font></summary>\n",
        "    <p><i><b>Important Note: Please only do this when you've already passed the assignment to avoid problems with the autograder.</b></i>\n",
        "    <ol>\n",
        "        <li> On the notebook’s menu, click “View” > “Cell Toolbar” > “Edit Metadata”</li>\n",
        "        <li> Hit the “Edit Metadata” button next to the code cell which you want to lock/unlock</li>\n",
        "        <li> Set the attribute value for “editable” to:\n",
        "            <ul>\n",
        "                <li> “true” if you want to unlock it </li>\n",
        "                <li> “false” if you want to lock it </li>\n",
        "            </ul>\n",
        "        </li>\n",
        "        <li> On the notebook’s menu, click “View” > “Cell Toolbar” > “None” </li>\n",
        "    </ol>\n",
        "    <p> Here's a short demo of how to do the steps above:\n",
        "        <br>\n",
        "        <img src=\"https://lh3.google.com/u/0/d/14Xy_Mb17CZVgzVAgq7NCjMVBvSae3xO1\" align=\"center\" alt=\"unlock_cells.gif\">\n",
        "</details>"
      ]
    }
  ],
  "metadata": {
    "dl_toc_settings": {
      "rndtag": "89367"
    },
    "kernelspec": {
      "display_name": "Python 3",
      "name": "python3"
    },
    "language_info": {
      "codemirror_mode": {
        "name": "ipython",
        "version": 3
      },
      "file_extension": ".py",
      "mimetype": "text/x-python",
      "name": "python",
      "nbconvert_exporter": "python",
      "pygments_lexer": "ipython3",
      "version": "3.11.0"
    },
    "colab": {
      "provenance": [],
      "gpuType": "T4",
      "include_colab_link": true
    },
    "accelerator": "GPU"
  },
  "nbformat": 4,
  "nbformat_minor": 0
}